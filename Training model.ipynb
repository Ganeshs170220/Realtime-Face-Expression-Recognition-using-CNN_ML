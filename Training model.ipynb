{
  "nbformat": 4,
  "nbformat_minor": 0,
  "metadata": {
    "colab": {
      "provenance": []
    },
    "kernelspec": {
      "name": "python3",
      "display_name": "Python 3"
    },
    "language_info": {
      "name": "python"
    },
    "accelerator": "GPU",
    "gpuClass": "standard"
  },
  "cells": [
    {
      "cell_type": "markdown",
      "source": [
        "### Extracting the dataset zip file"
      ],
      "metadata": {
        "id": "XFGlKZ4_DvEw"
      }
    },
    {
      "cell_type": "code",
      "execution_count": 1,
      "metadata": {
        "id": "nBPPFbgQBlsJ",
        "colab": {
          "base_uri": "https://localhost:8080/"
        },
        "outputId": "fbfed035-46fd-4079-9369-3ddedc4cbd21"
      },
      "outputs": [
        {
          "output_type": "stream",
          "name": "stdout",
          "text": [
            "Data extracted\n"
          ]
        }
      ],
      "source": [
        "from zipfile import ZipFile\n",
        "# from PIL import Image\n",
        "path = \"/content/drive/MyDrive/Colab Notebooks/datasets/face expression recognition dataset.zip\"\n",
        "\n",
        "with ZipFile(path) as f:\n",
        "  f.extractall(\"./data\")\n",
        "  print(\"Data extracted\")"
      ]
    },
    {
      "cell_type": "markdown",
      "source": [
        "### importing the required modules"
      ],
      "metadata": {
        "id": "sIkx88AdD3PP"
      }
    },
    {
      "cell_type": "code",
      "source": [
        "import pandas as pd\n",
        "import numpy as np\n",
        "import tensorflow as tf\n",
        "from tensorflow.keras import layers\n",
        "from PIL import Image"
      ],
      "metadata": {
        "id": "IzZskxnDCpvX"
      },
      "execution_count": 56,
      "outputs": []
    },
    {
      "cell_type": "markdown",
      "source": [
        "### To know the original Image size"
      ],
      "metadata": {
        "id": "KbSS2UbVXKv6"
      }
    },
    {
      "cell_type": "code",
      "source": [
        "img = Image.open(\"/content/data/archive(2)/images/train/angry/0.jpg\")\n",
        "img.size"
      ],
      "metadata": {
        "colab": {
          "base_uri": "https://localhost:8080/"
        },
        "id": "0SUse1INPyBD",
        "outputId": "81dd299e-8ed9-4f8f-b9c2-470f17de4014"
      },
      "execution_count": 55,
      "outputs": [
        {
          "output_type": "execute_result",
          "data": {
            "text/plain": [
              "(48, 48)"
            ]
          },
          "metadata": {},
          "execution_count": 55
        }
      ]
    },
    {
      "cell_type": "code",
      "source": [
        "data = tf.keras.utils.image_dataset_from_directory(\n",
        "    \"/content/data/archive(2)/images/train\",\n",
        "    image_size = (48,48),\n",
        "    color_mode=\"grayscale\",\n",
        "    batch_size = 26417\n",
        ")"
      ],
      "metadata": {
        "colab": {
          "base_uri": "https://localhost:8080/"
        },
        "id": "o3NSfbMmEDhE",
        "outputId": "cf836981-3924-4b02-9d40-c87974520422"
      },
      "execution_count": 57,
      "outputs": [
        {
          "output_type": "stream",
          "name": "stdout",
          "text": [
            "Found 26417 files belonging to 6 classes.\n"
          ]
        }
      ]
    },
    {
      "cell_type": "markdown",
      "source": [
        "### Creating the layers for a model"
      ],
      "metadata": {
        "id": "5sYpmi2cXgdZ"
      }
    },
    {
      "cell_type": "code",
      "source": [
        "model = tf.keras.Sequential([\n",
        "    layers.Conv2D(18,5,padding=\"same\",input_shape=(48,48,1)),\n",
        "    layers.MaxPool2D(),\n",
        "    layers.Conv2D(18,3,padding=\"same\",activation=\"leaky_relu\"),\n",
        "    layers.MaxPool2D(),\n",
        "    layers.Conv2D(36,3,padding=\"same\",activation= \"leaky_relu\"),\n",
        "    layers.MaxPool2D(),\n",
        "    layers.Flatten(),\n",
        "    layers.Dense(100,activation = \"leaky_relu\"),\n",
        "    layers.Dense(10),\n",
        "    layers.Activation(\"softmax\")\n",
        "])"
      ],
      "metadata": {
        "id": "05ZytcfjEoya"
      },
      "execution_count": 58,
      "outputs": []
    },
    {
      "cell_type": "markdown",
      "source": [
        "### summary of the model"
      ],
      "metadata": {
        "id": "iDI8YGIvXqOr"
      }
    },
    {
      "cell_type": "code",
      "source": [
        "model.summary()"
      ],
      "metadata": {
        "colab": {
          "base_uri": "https://localhost:8080/"
        },
        "id": "1ZyMZCiqE6i6",
        "outputId": "985f0104-36e0-4ec9-9fbe-12c42bb55e0b"
      },
      "execution_count": 59,
      "outputs": [
        {
          "output_type": "stream",
          "name": "stdout",
          "text": [
            "Model: \"sequential_13\"\n",
            "_________________________________________________________________\n",
            " Layer (type)                Output Shape              Param #   \n",
            "=================================================================\n",
            " conv2d_48 (Conv2D)          (None, 48, 48, 18)        468       \n",
            "                                                                 \n",
            " max_pooling2d_48 (MaxPoolin  (None, 24, 24, 18)       0         \n",
            " g2D)                                                            \n",
            "                                                                 \n",
            " conv2d_49 (Conv2D)          (None, 24, 24, 18)        2934      \n",
            "                                                                 \n",
            " max_pooling2d_49 (MaxPoolin  (None, 12, 12, 18)       0         \n",
            " g2D)                                                            \n",
            "                                                                 \n",
            " conv2d_50 (Conv2D)          (None, 12, 12, 36)        5868      \n",
            "                                                                 \n",
            " max_pooling2d_50 (MaxPoolin  (None, 6, 6, 36)         0         \n",
            " g2D)                                                            \n",
            "                                                                 \n",
            " flatten_14 (Flatten)        (None, 1296)              0         \n",
            "                                                                 \n",
            " dense_28 (Dense)            (None, 100)               129700    \n",
            "                                                                 \n",
            " dense_29 (Dense)            (None, 10)                1010      \n",
            "                                                                 \n",
            " activation_12 (Activation)  (None, 10)                0         \n",
            "                                                                 \n",
            "=================================================================\n",
            "Total params: 139,980\n",
            "Trainable params: 139,980\n",
            "Non-trainable params: 0\n",
            "_________________________________________________________________\n"
          ]
        }
      ]
    },
    {
      "cell_type": "markdown",
      "source": [
        "### model compilation"
      ],
      "metadata": {
        "id": "VvQ4A9d6XuFq"
      }
    },
    {
      "cell_type": "code",
      "source": [
        "model.compile(\n",
        "    loss= tf.keras.losses.categorical_crossentropy,\n",
        "    optimizer = tf.keras.optimizers.Adam(),\n",
        "    metrics = [\"Accuracy\"]\n",
        ")"
      ],
      "metadata": {
        "id": "TgsQAvmHE-IZ"
      },
      "execution_count": 60,
      "outputs": []
    },
    {
      "cell_type": "markdown",
      "source": [
        "### model training"
      ],
      "metadata": {
        "id": "RY0pPPRaX4wA"
      }
    },
    {
      "cell_type": "code",
      "source": [
        "for features,labels in data:\n",
        "    features = tf.divide(features,255)\n",
        "    labels = tf.one_hot(labels,10)\n",
        "    record = model.fit(features,labels,batch_size = 27,epochs=100)"
      ],
      "metadata": {
        "colab": {
          "base_uri": "https://localhost:8080/"
        },
        "id": "V_xvVNiAGNYg",
        "outputId": "172754f4-6a78-47c7-c17c-624c6e20b06b"
      },
      "execution_count": 61,
      "outputs": [
        {
          "output_type": "stream",
          "name": "stdout",
          "text": [
            "Epoch 1/100\n",
            "979/979 [==============================] - 5s 4ms/step - loss: 1.5728 - Accuracy: 0.3590\n",
            "Epoch 2/100\n",
            "979/979 [==============================] - 4s 4ms/step - loss: 1.3486 - Accuracy: 0.4690\n",
            "Epoch 3/100\n",
            "979/979 [==============================] - 4s 4ms/step - loss: 1.2407 - Accuracy: 0.5174\n",
            "Epoch 4/100\n",
            "979/979 [==============================] - 4s 4ms/step - loss: 1.1573 - Accuracy: 0.5520\n",
            "Epoch 5/100\n",
            "979/979 [==============================] - 4s 4ms/step - loss: 1.0768 - Accuracy: 0.5875\n",
            "Epoch 6/100\n",
            "979/979 [==============================] - 5s 5ms/step - loss: 0.9996 - Accuracy: 0.6196\n",
            "Epoch 7/100\n",
            "979/979 [==============================] - 4s 4ms/step - loss: 0.9235 - Accuracy: 0.6497\n",
            "Epoch 8/100\n",
            "979/979 [==============================] - 4s 4ms/step - loss: 0.8536 - Accuracy: 0.6767\n",
            "Epoch 9/100\n",
            "979/979 [==============================] - 4s 4ms/step - loss: 0.7841 - Accuracy: 0.7066\n",
            "Epoch 10/100\n",
            "979/979 [==============================] - 4s 4ms/step - loss: 0.7077 - Accuracy: 0.7370\n",
            "Epoch 11/100\n",
            "979/979 [==============================] - 4s 4ms/step - loss: 0.6395 - Accuracy: 0.7635\n",
            "Epoch 12/100\n",
            "979/979 [==============================] - 4s 4ms/step - loss: 0.5734 - Accuracy: 0.7874\n",
            "Epoch 13/100\n",
            "979/979 [==============================] - 4s 4ms/step - loss: 0.5046 - Accuracy: 0.8167\n",
            "Epoch 14/100\n",
            "979/979 [==============================] - 4s 4ms/step - loss: 0.4463 - Accuracy: 0.8360\n",
            "Epoch 15/100\n",
            "979/979 [==============================] - 4s 4ms/step - loss: 0.3951 - Accuracy: 0.8549\n",
            "Epoch 16/100\n",
            "979/979 [==============================] - 4s 4ms/step - loss: 0.3485 - Accuracy: 0.8729\n",
            "Epoch 17/100\n",
            "979/979 [==============================] - 4s 4ms/step - loss: 0.3049 - Accuracy: 0.8897\n",
            "Epoch 18/100\n",
            "979/979 [==============================] - 4s 4ms/step - loss: 0.2739 - Accuracy: 0.9014\n",
            "Epoch 19/100\n",
            "979/979 [==============================] - 4s 4ms/step - loss: 0.2496 - Accuracy: 0.9115\n",
            "Epoch 20/100\n",
            "979/979 [==============================] - 4s 4ms/step - loss: 0.2248 - Accuracy: 0.9201\n",
            "Epoch 21/100\n",
            "979/979 [==============================] - 4s 4ms/step - loss: 0.2020 - Accuracy: 0.9292\n",
            "Epoch 22/100\n",
            "979/979 [==============================] - 4s 4ms/step - loss: 0.2025 - Accuracy: 0.9303\n",
            "Epoch 23/100\n",
            "979/979 [==============================] - 4s 4ms/step - loss: 0.1778 - Accuracy: 0.9388\n",
            "Epoch 24/100\n",
            "979/979 [==============================] - 4s 4ms/step - loss: 0.1717 - Accuracy: 0.9398\n",
            "Epoch 25/100\n",
            "979/979 [==============================] - 4s 4ms/step - loss: 0.1715 - Accuracy: 0.9403\n",
            "Epoch 26/100\n",
            "979/979 [==============================] - 4s 4ms/step - loss: 0.1511 - Accuracy: 0.9482\n",
            "Epoch 27/100\n",
            "979/979 [==============================] - 4s 4ms/step - loss: 0.1637 - Accuracy: 0.9436\n",
            "Epoch 28/100\n",
            "979/979 [==============================] - 4s 4ms/step - loss: 0.1348 - Accuracy: 0.9548\n",
            "Epoch 29/100\n",
            "979/979 [==============================] - 4s 4ms/step - loss: 0.1439 - Accuracy: 0.9513\n",
            "Epoch 30/100\n",
            "979/979 [==============================] - 4s 4ms/step - loss: 0.1367 - Accuracy: 0.9551\n",
            "Epoch 31/100\n",
            "979/979 [==============================] - 4s 4ms/step - loss: 0.1394 - Accuracy: 0.9548\n",
            "Epoch 32/100\n",
            "979/979 [==============================] - 4s 4ms/step - loss: 0.1286 - Accuracy: 0.9572\n",
            "Epoch 33/100\n",
            "979/979 [==============================] - 4s 4ms/step - loss: 0.1326 - Accuracy: 0.9577\n",
            "Epoch 34/100\n",
            "979/979 [==============================] - 4s 4ms/step - loss: 0.1193 - Accuracy: 0.9609\n",
            "Epoch 35/100\n",
            "979/979 [==============================] - 5s 5ms/step - loss: 0.1240 - Accuracy: 0.9587\n",
            "Epoch 36/100\n",
            "979/979 [==============================] - 5s 5ms/step - loss: 0.1202 - Accuracy: 0.9601\n",
            "Epoch 37/100\n",
            "979/979 [==============================] - 4s 4ms/step - loss: 0.1168 - Accuracy: 0.9621\n",
            "Epoch 38/100\n",
            "979/979 [==============================] - 4s 4ms/step - loss: 0.1183 - Accuracy: 0.9626\n",
            "Epoch 39/100\n",
            "979/979 [==============================] - 4s 4ms/step - loss: 0.1124 - Accuracy: 0.9634\n",
            "Epoch 40/100\n",
            "979/979 [==============================] - 4s 4ms/step - loss: 0.1352 - Accuracy: 0.9574\n",
            "Epoch 41/100\n",
            "979/979 [==============================] - 4s 4ms/step - loss: 0.0956 - Accuracy: 0.9686\n",
            "Epoch 42/100\n",
            "979/979 [==============================] - 4s 4ms/step - loss: 0.0953 - Accuracy: 0.9710\n",
            "Epoch 43/100\n",
            "979/979 [==============================] - 4s 4ms/step - loss: 0.1174 - Accuracy: 0.9626\n",
            "Epoch 44/100\n",
            "979/979 [==============================] - 4s 4ms/step - loss: 0.1056 - Accuracy: 0.9677\n",
            "Epoch 45/100\n",
            "979/979 [==============================] - 4s 4ms/step - loss: 0.1042 - Accuracy: 0.9679\n",
            "Epoch 46/100\n",
            "979/979 [==============================] - 4s 4ms/step - loss: 0.0922 - Accuracy: 0.9705\n",
            "Epoch 47/100\n",
            "979/979 [==============================] - 4s 4ms/step - loss: 0.0987 - Accuracy: 0.9686\n",
            "Epoch 48/100\n",
            "979/979 [==============================] - 4s 4ms/step - loss: 0.1069 - Accuracy: 0.9651\n",
            "Epoch 49/100\n",
            "979/979 [==============================] - 4s 4ms/step - loss: 0.0874 - Accuracy: 0.9728\n",
            "Epoch 50/100\n",
            "979/979 [==============================] - 4s 4ms/step - loss: 0.0966 - Accuracy: 0.9710\n",
            "Epoch 51/100\n",
            "979/979 [==============================] - 4s 4ms/step - loss: 0.1000 - Accuracy: 0.9688\n",
            "Epoch 52/100\n",
            "979/979 [==============================] - 4s 4ms/step - loss: 0.0948 - Accuracy: 0.9698\n",
            "Epoch 53/100\n",
            "979/979 [==============================] - 4s 4ms/step - loss: 0.0864 - Accuracy: 0.9723\n",
            "Epoch 54/100\n",
            "979/979 [==============================] - 4s 4ms/step - loss: 0.0863 - Accuracy: 0.9740\n",
            "Epoch 55/100\n",
            "979/979 [==============================] - 4s 4ms/step - loss: 0.1033 - Accuracy: 0.9674\n",
            "Epoch 56/100\n",
            "979/979 [==============================] - 4s 4ms/step - loss: 0.0873 - Accuracy: 0.9738\n",
            "Epoch 57/100\n",
            "979/979 [==============================] - 4s 4ms/step - loss: 0.0887 - Accuracy: 0.9734\n",
            "Epoch 58/100\n",
            "979/979 [==============================] - 4s 4ms/step - loss: 0.0787 - Accuracy: 0.9766\n",
            "Epoch 59/100\n",
            "979/979 [==============================] - 4s 4ms/step - loss: 0.0985 - Accuracy: 0.9715\n",
            "Epoch 60/100\n",
            "979/979 [==============================] - 4s 4ms/step - loss: 0.0910 - Accuracy: 0.9723\n",
            "Epoch 61/100\n",
            "979/979 [==============================] - 4s 4ms/step - loss: 0.0840 - Accuracy: 0.9746\n",
            "Epoch 62/100\n",
            "979/979 [==============================] - 4s 4ms/step - loss: 0.0762 - Accuracy: 0.9766\n",
            "Epoch 63/100\n",
            "979/979 [==============================] - 4s 4ms/step - loss: 0.0928 - Accuracy: 0.9737\n",
            "Epoch 64/100\n",
            "979/979 [==============================] - 4s 4ms/step - loss: 0.0761 - Accuracy: 0.9782\n",
            "Epoch 65/100\n",
            "979/979 [==============================] - 4s 4ms/step - loss: 0.0862 - Accuracy: 0.9742\n",
            "Epoch 66/100\n",
            "979/979 [==============================] - 4s 4ms/step - loss: 0.0809 - Accuracy: 0.9753\n",
            "Epoch 67/100\n",
            "979/979 [==============================] - 4s 4ms/step - loss: 0.0811 - Accuracy: 0.9758\n",
            "Epoch 68/100\n",
            "979/979 [==============================] - 4s 4ms/step - loss: 0.0801 - Accuracy: 0.9770\n",
            "Epoch 69/100\n",
            "979/979 [==============================] - 4s 4ms/step - loss: 0.0839 - Accuracy: 0.9748\n",
            "Epoch 70/100\n",
            "979/979 [==============================] - 4s 4ms/step - loss: 0.0745 - Accuracy: 0.9785\n",
            "Epoch 71/100\n",
            "979/979 [==============================] - 4s 4ms/step - loss: 0.0766 - Accuracy: 0.9791\n",
            "Epoch 72/100\n",
            "979/979 [==============================] - 4s 4ms/step - loss: 0.0768 - Accuracy: 0.9765\n",
            "Epoch 73/100\n",
            "979/979 [==============================] - 4s 4ms/step - loss: 0.0901 - Accuracy: 0.9724\n",
            "Epoch 74/100\n",
            "979/979 [==============================] - 4s 4ms/step - loss: 0.0798 - Accuracy: 0.9765\n",
            "Epoch 75/100\n",
            "979/979 [==============================] - 4s 4ms/step - loss: 0.0719 - Accuracy: 0.9790\n",
            "Epoch 76/100\n",
            "979/979 [==============================] - 4s 4ms/step - loss: 0.0807 - Accuracy: 0.9772\n",
            "Epoch 77/100\n",
            "979/979 [==============================] - 4s 4ms/step - loss: 0.0739 - Accuracy: 0.9787\n",
            "Epoch 78/100\n",
            "979/979 [==============================] - 4s 4ms/step - loss: 0.0765 - Accuracy: 0.9769\n",
            "Epoch 79/100\n",
            "979/979 [==============================] - 4s 4ms/step - loss: 0.0763 - Accuracy: 0.9782\n",
            "Epoch 80/100\n",
            "979/979 [==============================] - 5s 5ms/step - loss: 0.0747 - Accuracy: 0.9789\n",
            "Epoch 81/100\n",
            "979/979 [==============================] - 5s 5ms/step - loss: 0.0797 - Accuracy: 0.9777\n",
            "Epoch 82/100\n",
            "979/979 [==============================] - 4s 4ms/step - loss: 0.0739 - Accuracy: 0.9790\n",
            "Epoch 83/100\n",
            "979/979 [==============================] - 4s 4ms/step - loss: 0.0686 - Accuracy: 0.9798\n",
            "Epoch 84/100\n",
            "979/979 [==============================] - 4s 4ms/step - loss: 0.0696 - Accuracy: 0.9784\n",
            "Epoch 85/100\n",
            "979/979 [==============================] - 4s 4ms/step - loss: 0.0842 - Accuracy: 0.9757\n",
            "Epoch 86/100\n",
            "979/979 [==============================] - 4s 4ms/step - loss: 0.0620 - Accuracy: 0.9825\n",
            "Epoch 87/100\n",
            "979/979 [==============================] - 4s 4ms/step - loss: 0.0597 - Accuracy: 0.9842\n",
            "Epoch 88/100\n",
            "979/979 [==============================] - 4s 4ms/step - loss: 0.0766 - Accuracy: 0.9766\n",
            "Epoch 89/100\n",
            "979/979 [==============================] - 4s 4ms/step - loss: 0.0745 - Accuracy: 0.9777\n",
            "Epoch 90/100\n",
            "979/979 [==============================] - 4s 4ms/step - loss: 0.0622 - Accuracy: 0.9836\n",
            "Epoch 91/100\n",
            "979/979 [==============================] - 4s 4ms/step - loss: 0.0857 - Accuracy: 0.9752\n",
            "Epoch 92/100\n",
            "979/979 [==============================] - 4s 4ms/step - loss: 0.0564 - Accuracy: 0.9849\n",
            "Epoch 93/100\n",
            "979/979 [==============================] - 4s 4ms/step - loss: 0.0747 - Accuracy: 0.9796\n",
            "Epoch 94/100\n",
            "979/979 [==============================] - 4s 4ms/step - loss: 0.0635 - Accuracy: 0.9819\n",
            "Epoch 95/100\n",
            "979/979 [==============================] - 4s 4ms/step - loss: 0.0741 - Accuracy: 0.9785\n",
            "Epoch 96/100\n",
            "979/979 [==============================] - 4s 4ms/step - loss: 0.0635 - Accuracy: 0.9815\n",
            "Epoch 97/100\n",
            "979/979 [==============================] - 4s 4ms/step - loss: 0.0636 - Accuracy: 0.9823\n",
            "Epoch 98/100\n",
            "979/979 [==============================] - 4s 4ms/step - loss: 0.0731 - Accuracy: 0.9790\n",
            "Epoch 99/100\n",
            "979/979 [==============================] - 4s 4ms/step - loss: 0.0539 - Accuracy: 0.9850\n",
            "Epoch 100/100\n",
            "979/979 [==============================] - 4s 4ms/step - loss: 0.0697 - Accuracy: 0.9796\n"
          ]
        }
      ]
    },
    {
      "cell_type": "markdown",
      "source": [
        "### saving the model for further use"
      ],
      "metadata": {
        "id": "gLqGOzzyX8Ra"
      }
    },
    {
      "cell_type": "code",
      "source": [
        "model.save(\"/content/drive/MyDrive/Colab Notebooks/datasets/face_exp_rec_model.h5\")"
      ],
      "metadata": {
        "id": "9Y2Lhi5NNbgb"
      },
      "execution_count": 63,
      "outputs": []
    }
  ]
}
